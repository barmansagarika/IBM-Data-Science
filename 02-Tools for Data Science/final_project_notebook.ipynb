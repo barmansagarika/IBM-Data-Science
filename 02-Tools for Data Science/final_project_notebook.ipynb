{
 "cells": [
  {
   "cell_type": "markdown",
   "id": "881a6817",
   "metadata": {},
   "source": [
    "# Data Science Tools and Ecosystem"
   ]
  },
  {
   "cell_type": "markdown",
   "id": "2d826d55",
   "metadata": {},
   "source": [
    "In this notebook, we will summarize some of the key tools, languages, and libraries used by data scientists. We will also perform a few arithmetic operations and demonstrate code examples relevant to data science workflows."
   ]
  },
  {
   "cell_type": "markdown",
   "id": "2928c8d6",
   "metadata": {},
   "source": [
    "## Popular Languages for Data Science\n",
    "\n",
    "Some of the most commonly used languages in Data Science are:\n",
    "\n",
    "1. Python\n",
    "2. R\n",
    "3. SQL\n",
    "4. Julia\n",
    "5. Scala"
   ]
  },
  {
   "cell_type": "markdown",
   "id": "911d9926",
   "metadata": {},
   "source": [
    "## Commonly Used Libraries in Data Science\n",
    "\n",
    "Here are some popular libraries used by data scientists:\n",
    "\n",
    "1. **Pandas** - for data manipulation and analysis\n",
    "2. **NumPy** - for numerical computations\n",
    "3. **Matplotlib** - for data visualization\n",
    "4. **Scikit-learn** - for machine learning\n",
    "5. **TensorFlow** - for deep learning"
   ]
  },
  {
   "cell_type": "markdown",
   "id": "16ca2aba",
   "metadata": {},
   "source": [
    "## Data Science Tools\n",
    "\n",
    "| Tool             | Category         | Description                          |\n",
    "|------------------|------------------|--------------------------------------|\n",
    "| Jupyter Notebook | IDE              | Interactive coding environment       |\n",
    "| RStudio          | IDE              | IDE for R programming                |\n",
    "| Apache Spark     | Big Data Tool    | Cluster-computing for big data       |\n",
    "| Tableau          | Visualization    | Interactive data visualization       |\n",
    "| TensorFlow       | ML Framework     | Open-source deep learning framework  |"
   ]
  },
  {
   "cell_type": "markdown",
   "id": "2490aa6c",
   "metadata": {},
   "source": [
    "## Arithmetic Expressions in Python\n",
    "\n",
    "Below, we will see how to perform basic arithmetic operations such as addition and multiplication using Python."
   ]
  },
  {
   "cell_type": "code",
   "execution_count": 2,
   "id": "91185479",
   "metadata": {},
   "outputs": [
    {
     "data": {
      "text/plain": [
       "17"
      ]
     },
     "execution_count": 2,
     "metadata": {},
     "output_type": "execute_result"
    }
   ],
   "source": [
    "(3 * 4) + 5"
   ]
  },
  {
   "cell_type": "code",
   "execution_count": 3,
   "id": "0bfa303f",
   "metadata": {},
   "outputs": [
    {
     "data": {
      "text/plain": [
       "3.3333333333333335"
      ]
     },
     "execution_count": 3,
     "metadata": {},
     "output_type": "execute_result"
    }
   ],
   "source": [
    "minutes = 200\n",
    "hours = minutes / 60\n",
    "hours"
   ]
  },
  {
   "cell_type": "markdown",
   "id": "6704e786",
   "metadata": {},
   "source": [
    "## Objectives of this Notebook\n",
    "\n",
    "- List popular languages for Data Science\n",
    "- Introduce commonly used Data Science libraries\n",
    "- Present key Data Science tools in a table\n",
    "- Perform arithmetic expressions in Python\n",
    "- Convert time from minutes to hours using code"
   ]
  },
  {
   "cell_type": "markdown",
   "id": "70190a17",
   "metadata": {},
   "source": [
    "**Author:** Sagarika Barman"
   ]
  },
  {
   "cell_type": "markdown",
   "id": "755d6860",
   "metadata": {},
   "source": [
    "The notebook has been uploaded to GitHub and is publicly accessible at:\n",
    "\n",
    "🔗 [GitHub Link Here](https://github.com/barmansagarika/IBM-Data-Science)\n",
    "*"
   ]
  }
 ],
 "metadata": {
  "kernelspec": {
   "display_name": "Python 3",
   "language": "python",
   "name": "python3"
  },
  "language_info": {
   "codemirror_mode": {
    "name": "ipython",
    "version": 3
   },
   "file_extension": ".py",
   "mimetype": "text/x-python",
   "name": "python",
   "nbconvert_exporter": "python",
   "pygments_lexer": "ipython3",
   "version": "3.11.4"
  }
 },
 "nbformat": 4,
 "nbformat_minor": 5
}
